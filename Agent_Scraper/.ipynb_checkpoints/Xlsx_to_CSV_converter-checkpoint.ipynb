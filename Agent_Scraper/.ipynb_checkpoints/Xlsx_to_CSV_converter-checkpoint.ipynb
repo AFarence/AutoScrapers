{
 "cells": [
  {
   "cell_type": "markdown",
   "id": "199a622a",
   "metadata": {},
   "source": [
    "## Imports"
   ]
  },
  {
   "cell_type": "code",
   "execution_count": 1,
   "id": "a7d93a6c",
   "metadata": {},
   "outputs": [],
   "source": [
    "import pandas as pd"
   ]
  },
  {
   "cell_type": "markdown",
   "id": "c2a7dc07",
   "metadata": {},
   "source": [
    "## Convert"
   ]
  },
  {
   "cell_type": "code",
   "execution_count": 2,
   "id": "0769917e",
   "metadata": {},
   "outputs": [],
   "source": [
    "file_name = '2023_Brokerage_Dallas_Redfin' ## File name without the extension\n",
    "df = pd.read_excel(f'{file_name}.xlsx')"
   ]
  },
  {
   "cell_type": "markdown",
   "id": "68a0c393",
   "metadata": {},
   "source": [
    "## Clean"
   ]
  },
  {
   "cell_type": "code",
   "execution_count": 9,
   "id": "154f1b66",
   "metadata": {},
   "outputs": [],
   "source": [
    "df = df.rename(columns={'URL (SEE https://www.redfin.com/buy-a-home/comparative-market-analysis FOR INFO ON PRICING)':'URL'})"
   ]
  },
  {
   "cell_type": "markdown",
   "id": "cb4bfb8b",
   "metadata": {},
   "source": [
    "## Write back into CSV"
   ]
  },
  {
   "cell_type": "code",
   "execution_count": 10,
   "id": "c1f319d6",
   "metadata": {},
   "outputs": [],
   "source": [
    "df.to_csv(f'{file_name}.csv')"
   ]
  }
 ],
 "metadata": {
  "kernelspec": {
   "display_name": "Python 3 (ipykernel)",
   "language": "python",
   "name": "python3"
  },
  "language_info": {
   "codemirror_mode": {
    "name": "ipython",
    "version": 3
   },
   "file_extension": ".py",
   "mimetype": "text/x-python",
   "name": "python",
   "nbconvert_exporter": "python",
   "pygments_lexer": "ipython3",
   "version": "3.9.12"
  }
 },
 "nbformat": 4,
 "nbformat_minor": 5
}
