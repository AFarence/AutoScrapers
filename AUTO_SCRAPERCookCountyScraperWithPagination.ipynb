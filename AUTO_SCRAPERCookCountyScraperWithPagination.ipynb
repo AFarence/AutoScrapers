{
 "cells": [
  {
   "cell_type": "markdown",
   "id": "250e4813",
   "metadata": {},
   "source": [
    "## Imports"
   ]
  },
  {
   "cell_type": "code",
   "execution_count": 2,
   "id": "5be15415",
   "metadata": {},
   "outputs": [],
   "source": [
    "import pandas as pd\n",
    "import numpy as np\n",
    "from playwright.async_api import async_playwright\n",
    "from bs4 import BeautifulSoup\n",
    "import re\n",
    "import glob\n",
    "import os\n",
    "from datetime import date\n",
    "import requests\n",
    "import time\n",
    "\n",
    "### For Google Sheets ###\n",
    "from oauth2client.service_account import ServiceAccountCredentials\n",
    "import gspread\n",
    "import json"
   ]
  },
  {
   "cell_type": "markdown",
   "id": "6e9111e1",
   "metadata": {},
   "source": [
    "## Scraper"
   ]
  },
  {
   "cell_type": "code",
   "execution_count": 3,
   "id": "c6123e8c",
   "metadata": {},
   "outputs": [],
   "source": [
    "### Find local path\n",
    "path = os.getcwd()"
   ]
  },
  {
   "cell_type": "code",
   "execution_count": 4,
   "id": "d8c5a5d9",
   "metadata": {},
   "outputs": [],
   "source": [
    "### Get a list of all CSV files in current directory\n",
    "filelist = glob.glob(os.path.join(path,'*.csv'))"
   ]
  },
  {
   "cell_type": "code",
   "execution_count": 5,
   "id": "57472931",
   "metadata": {},
   "outputs": [],
   "source": [
    "### Read in old dataframe\n",
    "for f in filelist:\n",
    "    if re.search('ALL_DEEDS',f):\n",
    "        old_df = pd.read_csv(f)"
   ]
  },
  {
   "cell_type": "code",
   "execution_count": 6,
   "id": "bfae607a",
   "metadata": {},
   "outputs": [],
   "source": [
    "### Remove any CSV files in current directory\n",
    "for f in filelist:\n",
    "    os.remove(f)"
   ]
  },
  {
   "cell_type": "markdown",
   "id": "edcdb5bb",
   "metadata": {},
   "source": [
    "Web link: https://crs.cookcountyclerkil.gov/Search/Additional"
   ]
  },
  {
   "cell_type": "markdown",
   "id": "31232b29",
   "metadata": {},
   "source": [
    "## Main Doc Scraper\n",
    "(Deeds & mortgages, those with a consideration amount)"
   ]
  },
  {
   "cell_type": "code",
   "execution_count": 7,
   "id": "c26d65f1",
   "metadata": {},
   "outputs": [],
   "source": [
    "### Set up start date, end date, and doc list\n",
    "\n",
    "start_date = '01012022'\n",
    "end_date = '03132023'\n",
    "\n",
    "run_date = date.today().strftime('%b-%d-%Y')\n",
    "\n",
    "doc_list = [\n",
    "    'DEED',\n",
    "    'DEIT',\n",
    "    'QCD',\n",
    "    'SPWD',\n",
    "    'TRUD',\n",
    "    'TEED',\n",
    "    'WARD',\n",
    "    'MORT'\n",
    "]"
   ]
  },
  {
   "cell_type": "markdown",
   "id": "5bb60e93",
   "metadata": {},
   "source": [
    "Target website: https://crs.cookcountyclerkil.gov/Search/Additional"
   ]
  },
  {
   "cell_type": "code",
   "execution_count": 8,
   "id": "8f6b7638",
   "metadata": {},
   "outputs": [],
   "source": [
    "def page_scraper(page, page_counter):\n",
    "\n",
    "    dfs = pd.read_html(page)\n",
    "    df = dfs[0]\n",
    "\n",
    "    soup = BeautifulSoup(page, 'html.parser')\n",
    "\n",
    "    link_suffix = 'https://crs.cookcountyclerkil.gov/'\n",
    "\n",
    "    deed_urls = []\n",
    "    for link in soup.find_all('a',attrs={'href': re.compile('^/Document/Detail')}):\n",
    "        page = link_suffix + link.get('href')\n",
    "        deed_urls.append(page)\n",
    "\n",
    "    df['deed_urls'] = deed_urls\n",
    "\n",
    "    df['Consi. Amt.'] = df['Consi. Amt.'].str.replace('$','',regex=False)\n",
    "    df['Consi. Amt.'] = df['Consi. Amt.'].str.replace(',','',regex=False)\n",
    "\n",
    "    df['Consi. Amt.'] = pd.to_numeric(df['Consi. Amt.'])\n",
    "\n",
    "    page_counter = page_counter + 1\n",
    "\n",
    "    df.to_csv(f'{doc}_page{page_counter}_{start_date}_to_{end_date}.csv')\n",
    "    \n",
    "    return page_counter"
   ]
  },
  {
   "cell_type": "code",
   "execution_count": 9,
   "id": "afc502b9",
   "metadata": {
    "scrolled": true
   },
   "outputs": [],
   "source": [
    "### Run main doc scraper\n",
    "\n",
    "for doc in doc_list:\n",
    "    \n",
    "    page_counter = 0\n",
    "\n",
    "    playwright = await async_playwright().start()\n",
    "    browser = await playwright.chromium.launch(headless = True)\n",
    "    page = await browser.new_page()\n",
    "\n",
    "    # Go to https://crs.cookcountyclerkil.gov/Search/Additional\n",
    "    await page.goto(\"https://crs.cookcountyclerkil.gov/Search/Additional\")\n",
    "\n",
    "    # Click text=Document Type Search\n",
    "    await page.locator(\"text=Document Type Search\").click()\n",
    "\n",
    "    # Select DEED\n",
    "    await page.locator(\"text=Document Type * ABROGATION ACCEPTANCE ACCEPTANCE OF TRANFER ON DEATH INSTRUMEN A >> select[name=\\\"DocumentType\\\"]\").select_option(doc)\n",
    "\n",
    "    # Click text=From Date * (mm/dd/yyyy) >> input[name=\"RecordedFromDate\"]\n",
    "    await page.locator(\"text=From Date * (mm/dd/yyyy) >> input[name=\\\"RecordedFromDate\\\"]\").click()\n",
    "\n",
    "    await page.locator(\"text=From Date * (mm/dd/yyyy) >> input[name=\\\"RecordedFromDate\\\"]\").fill(start_date)\n",
    "\n",
    "    # Click text=To Date * (mm/dd/yyyy) >> input[name=\"RecordedToDate\"]\n",
    "    await page.locator(\"text=To Date * (mm/dd/yyyy) >> input[name=\\\"RecordedToDate\\\"]\").click()\n",
    "\n",
    "    await page.locator(\"text=To Date * (mm/dd/yyyy) >> input[name=\\\"RecordedToDate\\\"]\").fill(end_date)\n",
    "\n",
    "    # Click input[name=\"LowerLimit\"]\n",
    "    await page.locator(\"input[name=\\\"LowerLimit\\\"]\").click()\n",
    "\n",
    "    # Fill input[name=\"LowerLimit\"]\n",
    "    await page.locator(\"input[name=\\\"LowerLimit\\\"]\").fill(\"4000000\")\n",
    "\n",
    "    # Click text=Document Type Search Document Type * ABROGATION ACCEPTANCE ACCEPTANCE OF TRANFER >> button[name=\"submitButton\"]\n",
    "    await page.locator(\"text=Document Type Search Document Type * ABROGATION ACCEPTANCE ACCEPTANCE OF TRANFER >> button[name=\\\"submitButton\\\"]\").click()\n",
    "\n",
    "    try:\n",
    "        \n",
    "        await page.wait_for_selector(\"div[class=table-responsive]\")\n",
    "\n",
    "        x = await page.content()\n",
    "        \n",
    "        try:\n",
    "        \n",
    "            page_scraper(x, page_counter)\n",
    "            \n",
    "        except Exception as e:\n",
    "            2 + 2\n",
    "            \n",
    "        i = 1\n",
    "        \n",
    "        while i < 100:\n",
    "            \n",
    "            try:\n",
    "                \n",
    "                await page.wait_for_selector(\"div[class=table-responsive]\")\n",
    "\n",
    "                await page.locator(\"text=»\").click()\n",
    "                \n",
    "                y = await page.content()\n",
    "\n",
    "                page_scraper(y, i)\n",
    "                \n",
    "                i += 1\n",
    "                \n",
    "            except Exception as e:\n",
    "                \n",
    "                i += 1000\n",
    "                \n",
    "                await page.wait_for_selector(\"div[class=table-responsive]\")\n",
    "                \n",
    "                y = await page.content()\n",
    "\n",
    "                page_scraper(y, i)\n",
    "        \n",
    "        await browser.close()\n",
    "\n",
    "    # ---------------------\n",
    "#         await browser.close()\n",
    "        \n",
    "    except Exception as e:\n",
    "        2 + 2"
   ]
  },
  {
   "cell_type": "markdown",
   "id": "f77925e1",
   "metadata": {},
   "source": [
    "## Alternate Doc Scraper\n",
    "(Bankruptcy and Lis Pendens)"
   ]
  },
  {
   "cell_type": "code",
   "execution_count": 10,
   "id": "a1cfcb87",
   "metadata": {},
   "outputs": [],
   "source": [
    "alt_doc_list = [\n",
    "    'FORF',\n",
    "    'LISP',\n",
    "    'LISF'\n",
    "]"
   ]
  },
  {
   "cell_type": "code",
   "execution_count": 11,
   "id": "5fc891b8",
   "metadata": {},
   "outputs": [],
   "source": [
    "def alt_page_scraper(page, page_counter):\n",
    "\n",
    "    dfs = pd.read_html(page)\n",
    "    df = dfs[0]\n",
    "\n",
    "    soup = BeautifulSoup(page, 'html.parser')\n",
    "\n",
    "    link_suffix = 'https://crs.cookcountyclerkil.gov/'\n",
    "\n",
    "    deed_urls = []\n",
    "    for link in soup.find_all('a',attrs={'href': re.compile('^/Document/Detail')}):\n",
    "        page = link_suffix + link.get('href')\n",
    "        deed_urls.append(page)\n",
    "\n",
    "    df['deed_urls'] = deed_urls\n",
    "\n",
    "    page_counter = page_counter + 1\n",
    "\n",
    "    df.to_csv(f'{doc}_page{page_counter}_{start_date}_to_{end_date}.csv')\n",
    "    \n",
    "    return page_counter"
   ]
  },
  {
   "cell_type": "code",
   "execution_count": 12,
   "id": "ac9c32cc",
   "metadata": {},
   "outputs": [
    {
     "name": "stdout",
     "output_type": "stream",
     "text": [
      "Function failed: Can only use .str accessor with string values!\n",
      "Function failed: Can only use .str accessor with string values!\n",
      "Function failed: Length of values (183) does not match length of index (100)\n"
     ]
    }
   ],
   "source": [
    "### Run alt doc scraper\n",
    "\n",
    "for doc in alt_doc_list:\n",
    "    \n",
    "    page_counter = 0\n",
    "\n",
    "    playwright = await async_playwright().start()\n",
    "    browser = await playwright.chromium.launch(headless = True)\n",
    "    page = await browser.new_page()\n",
    "\n",
    "    # Go to https://crs.cookcountyclerkil.gov/Search/Additional\n",
    "    await page.goto(\"https://crs.cookcountyclerkil.gov/Search/Additional\")\n",
    "\n",
    "    # Click text=Document Type Search\n",
    "    await page.locator(\"text=Document Type Search\").click()\n",
    "\n",
    "    # Select DEED\n",
    "    await page.locator(\"text=Document Type * ABROGATION ACCEPTANCE ACCEPTANCE OF TRANFER ON DEATH INSTRUMEN A >> select[name=\\\"DocumentType\\\"]\").select_option(doc)\n",
    "\n",
    "    # Click text=From Date * (mm/dd/yyyy) >> input[name=\"RecordedFromDate\"]\n",
    "    await page.locator(\"text=From Date * (mm/dd/yyyy) >> input[name=\\\"RecordedFromDate\\\"]\").click()\n",
    "\n",
    "    await page.locator(\"text=From Date * (mm/dd/yyyy) >> input[name=\\\"RecordedFromDate\\\"]\").fill(start_date)\n",
    "\n",
    "    # Click text=To Date * (mm/dd/yyyy) >> input[name=\"RecordedToDate\"]\n",
    "    await page.locator(\"text=To Date * (mm/dd/yyyy) >> input[name=\\\"RecordedToDate\\\"]\").click()\n",
    "\n",
    "    await page.locator(\"text=To Date * (mm/dd/yyyy) >> input[name=\\\"RecordedToDate\\\"]\").fill(end_date)\n",
    "\n",
    "    # Click text=Document Type Search Document Type * ABROGATION ACCEPTANCE ACCEPTANCE OF TRANFER >> button[name=\"submitButton\"]\n",
    "    await page.locator(\"text=Document Type Search Document Type * ABROGATION ACCEPTANCE ACCEPTANCE OF TRANFER >> button[name=\\\"submitButton\\\"]\").click()\n",
    "\n",
    "    try:\n",
    "        \n",
    "        await page.wait_for_selector(\"div[class=table-responsive]\")\n",
    "\n",
    "        x = await page.content()\n",
    "        \n",
    "        try:\n",
    "        \n",
    "            page_scraper(x, page_counter)\n",
    "            \n",
    "        except Exception as e:\n",
    "            print(f'Function failed: {e}')\n",
    "            \n",
    "        i = 1\n",
    "        \n",
    "        while i < 100:\n",
    "            \n",
    "            try:\n",
    "                \n",
    "                await page.wait_for_selector(\"div[class=table-responsive]\")\n",
    "\n",
    "                await page.locator(\"text=»\").click()\n",
    "                \n",
    "                y = await page.content()\n",
    "\n",
    "                page_scraper(y, i)\n",
    "                \n",
    "                i += 1\n",
    "                \n",
    "            except Exception as e:\n",
    "                \n",
    "                i += 1000\n",
    "                \n",
    "                await page.wait_for_selector(\"div[class=table-responsive]\")\n",
    "                \n",
    "                y = await page.content()\n",
    "\n",
    "                page_scraper(y, i)\n",
    "        \n",
    "        await browser.close()\n",
    "\n",
    "    # ---------------------\n",
    "#         await browser.close()\n",
    "        \n",
    "    except Exception as e:\n",
    "        2 + 2"
   ]
  },
  {
   "cell_type": "markdown",
   "id": "ca43c843",
   "metadata": {},
   "source": [
    "## Create Master CSV file"
   ]
  },
  {
   "cell_type": "code",
   "execution_count": 13,
   "id": "931a16c8",
   "metadata": {},
   "outputs": [],
   "source": [
    "### Join all created CSVs into one file\n",
    "\n",
    "all_csvs = glob.glob(os.path.join(path,'*.csv'))\n",
    "\n",
    "li = []\n",
    "\n",
    "for filename in all_csvs:\n",
    "    frame = pd.read_csv(filename, index_col=None, header=0)\n",
    "    li.append(frame)\n",
    "    \n",
    "df = pd.concat(li, axis=0, ignore_index=True)"
   ]
  },
  {
   "cell_type": "code",
   "execution_count": 14,
   "id": "b31f4362",
   "metadata": {},
   "outputs": [],
   "source": [
    "### Clean master CSV and edit data types\n",
    "\n",
    "df = df.drop(columns=['Unnamed: 0.1','Unnamed: 0','View Doc'])\n",
    "df['Consi. Amt.'] = df['Consi. Amt.'].apply(lambda x : '${:,}'.format(x))\n",
    "\n",
    "df['Doc Recorded'] = pd.to_datetime(df['Doc Recorded'])\n",
    "df = df.sort_values(by='Doc Recorded', ascending=False)\n",
    "\n",
    "df = df.drop_duplicates()"
   ]
  },
  {
   "cell_type": "code",
   "execution_count": 15,
   "id": "5dde281c",
   "metadata": {},
   "outputs": [],
   "source": [
    "# pd.set_option('display.max_columns', 500)\n",
    "# pd.set_option('display.max_colwidth', None)\n",
    "# pd.set_option('display.max_rows', 1600)"
   ]
  },
  {
   "cell_type": "markdown",
   "id": "4d36ddab",
   "metadata": {},
   "source": [
    "## Get Links to docs"
   ]
  },
  {
   "cell_type": "code",
   "execution_count": 16,
   "id": "9d621651",
   "metadata": {},
   "outputs": [],
   "source": [
    "deed_list = df['deed_urls'].to_list()"
   ]
  },
  {
   "cell_type": "code",
   "execution_count": 17,
   "id": "975409d3",
   "metadata": {
    "scrolled": false
   },
   "outputs": [],
   "source": [
    "###\n",
    "# x[1] = Grantor table\n",
    "# x[2] = Grantee table\n",
    "# x[3] = Legal Description and Subdivision table\n",
    "###\n",
    "\n",
    "grantor_list = []\n",
    "grantee_list = []\n",
    "PIN_list = []\n",
    "url_counter = 0\n",
    "\n",
    "for deed in deed_list:\n",
    "    page = requests.get(deed)\n",
    "    x = pd.read_html(page.content)\n",
    "    \n",
    "    try:\n",
    "        x_1 = x[1]\n",
    "        x_1 = x_1.drop('Trust#',axis=1)\n",
    "        x_1 = pd.DataFrame({'Name': [', '.join(x_1['Name'].str.strip('\"').tolist())]})\n",
    "        x_1 = x_1['Name'].to_list()\n",
    "        grantor_list.append(x_1)\n",
    "    except Exception as e:\n",
    "        2 + 2\n",
    "    \n",
    "    try:\n",
    "        x_2 = x[2]\n",
    "        x_2 = x_2.drop('Trust#',axis=1)\n",
    "        x_2 = pd.DataFrame({'Name': [', '.join(x_2['Name'].str.strip('\"').tolist())]})\n",
    "        x_2 = x_2['Name'].to_list()\n",
    "        grantee_list.append(x_2)\n",
    "    except Exception as e:\n",
    "        2 + 2\n",
    "    \n",
    "    try:\n",
    "        x_3 = x[3]\n",
    "        x_3 = x_3.filter(items=['Property Index # (PIN)'])\n",
    "        x_3 = pd.DataFrame({'PIN': [', '.join(x_3['Property Index # (PIN)'].str.strip('\"').tolist())]})\n",
    "        x_3 = x_3['PIN'].to_list()\n",
    "        PIN_list.append(x_3)\n",
    "    except Exception as e:\n",
    "        PIN_list.append('No PIN found')\n",
    "        \n",
    "    url_counter += 1\n",
    "    time.sleep(1)"
   ]
  },
  {
   "cell_type": "code",
   "execution_count": 18,
   "id": "b8b263fd",
   "metadata": {},
   "outputs": [],
   "source": [
    "df['grantor_all'] = grantor_list\n",
    "df['grantee_all'] = grantee_list\n",
    "df['PIN_all'] = PIN_list"
   ]
  },
  {
   "cell_type": "code",
   "execution_count": 19,
   "id": "f0512d7a",
   "metadata": {},
   "outputs": [],
   "source": [
    "df = df.reset_index()"
   ]
  },
  {
   "cell_type": "code",
   "execution_count": 20,
   "id": "af2c23d1",
   "metadata": {},
   "outputs": [],
   "source": [
    "x = f'ALL_DEEDS_{start_date}_to_{end_date}_run_{run_date}.csv'\n",
    "df.to_csv(x)"
   ]
  },
  {
   "cell_type": "code",
   "execution_count": 21,
   "id": "68a63f4d",
   "metadata": {},
   "outputs": [],
   "source": [
    "df_deed = df.loc[df['Doc Type'] != 'MORTGAGE'].reset_index()\n",
    "df_deed = df_deed.drop(columns=['level_0','index'])"
   ]
  },
  {
   "cell_type": "markdown",
   "id": "ddaa3122",
   "metadata": {},
   "source": [
    "## Google Sheets"
   ]
  },
  {
   "cell_type": "code",
   "execution_count": 22,
   "id": "cdc27ec8",
   "metadata": {},
   "outputs": [],
   "source": [
    "scopes = [\n",
    "'https://www.googleapis.com/auth/spreadsheets',\n",
    "'https://www.googleapis.com/auth/drive'\n",
    "]\n",
    "\n",
    "credentials = ServiceAccountCredentials.from_json_keyfile_name(\"autoscraper-380600-d911f955a585.json\", scopes) #access the json key you downloaded earlier \n",
    "file = gspread.authorize(credentials) # authenticate the JSON key with gspread\n",
    "sheet = file.open(\"CookCountyScraper\") #open sheet\n",
    "sheet = sheet.sheet1 "
   ]
  },
  {
   "cell_type": "code",
   "execution_count": 23,
   "id": "d93fa3c0",
   "metadata": {},
   "outputs": [],
   "source": [
    "df = pd.read_csv(x)"
   ]
  },
  {
   "cell_type": "code",
   "execution_count": 24,
   "id": "160faffc",
   "metadata": {},
   "outputs": [],
   "source": [
    "df = df.drop(columns=['Unnamed: 0','index'])"
   ]
  },
  {
   "cell_type": "code",
   "execution_count": 27,
   "id": "c62c94ce",
   "metadata": {},
   "outputs": [
    {
     "name": "stderr",
     "output_type": "stream",
     "text": [
      "/var/folders/rq/0_j_rksd7psgdycg9c1qwf6m0000gp/T/ipykernel_53968/593088941.py:1: FutureWarning: The pandas.np module is deprecated and will be removed from pandas in a future version. Import numpy directly instead.\n",
      "  df = df.replace([pd.np.inf, -pd.np.inf, pd.np.nan], 'NA')\n"
     ]
    }
   ],
   "source": [
    "df = df.replace([pd.np.inf, -pd.np.inf, pd.np.nan], 'NA')"
   ]
  },
  {
   "cell_type": "code",
   "execution_count": 25,
   "id": "7930ebed",
   "metadata": {},
   "outputs": [
    {
     "data": {
      "text/plain": [
       "{'spreadsheetId': '1J-kWQ3SabAKz44NNYA3H7OE4NfMxdmk4AND2z_mh-AQ',\n",
       " 'clearedRange': 'Sheet1!A1:Z1249'}"
      ]
     },
     "execution_count": 25,
     "metadata": {},
     "output_type": "execute_result"
    }
   ],
   "source": [
    "# Clear existing data (optional)\n",
    "sheet.clear()"
   ]
  },
  {
   "cell_type": "code",
   "execution_count": 26,
   "id": "318e5bd9",
   "metadata": {},
   "outputs": [
    {
     "ename": "InvalidJSONError",
     "evalue": "Out of range float values are not JSON compliant",
     "output_type": "error",
     "traceback": [
      "\u001b[0;31m---------------------------------------------------------------------------\u001b[0m",
      "\u001b[0;31mValueError\u001b[0m                                Traceback (most recent call last)",
      "File \u001b[0;32m~/opt/anaconda3/lib/python3.9/site-packages/requests/models.py:473\u001b[0m, in \u001b[0;36mPreparedRequest.prepare_body\u001b[0;34m(self, data, files, json)\u001b[0m\n\u001b[1;32m    472\u001b[0m \u001b[38;5;28;01mtry\u001b[39;00m:\n\u001b[0;32m--> 473\u001b[0m     body \u001b[38;5;241m=\u001b[39m \u001b[43mcomplexjson\u001b[49m\u001b[38;5;241;43m.\u001b[39;49m\u001b[43mdumps\u001b[49m\u001b[43m(\u001b[49m\u001b[43mjson\u001b[49m\u001b[43m,\u001b[49m\u001b[43m \u001b[49m\u001b[43mallow_nan\u001b[49m\u001b[38;5;241;43m=\u001b[39;49m\u001b[38;5;28;43;01mFalse\u001b[39;49;00m\u001b[43m)\u001b[49m\n\u001b[1;32m    474\u001b[0m \u001b[38;5;28;01mexcept\u001b[39;00m \u001b[38;5;167;01mValueError\u001b[39;00m \u001b[38;5;28;01mas\u001b[39;00m ve:\n",
      "File \u001b[0;32m~/opt/anaconda3/lib/python3.9/json/__init__.py:234\u001b[0m, in \u001b[0;36mdumps\u001b[0;34m(obj, skipkeys, ensure_ascii, check_circular, allow_nan, cls, indent, separators, default, sort_keys, **kw)\u001b[0m\n\u001b[1;32m    233\u001b[0m     \u001b[38;5;28mcls\u001b[39m \u001b[38;5;241m=\u001b[39m JSONEncoder\n\u001b[0;32m--> 234\u001b[0m \u001b[38;5;28;01mreturn\u001b[39;00m \u001b[38;5;28;43mcls\u001b[39;49m\u001b[43m(\u001b[49m\n\u001b[1;32m    235\u001b[0m \u001b[43m    \u001b[49m\u001b[43mskipkeys\u001b[49m\u001b[38;5;241;43m=\u001b[39;49m\u001b[43mskipkeys\u001b[49m\u001b[43m,\u001b[49m\u001b[43m \u001b[49m\u001b[43mensure_ascii\u001b[49m\u001b[38;5;241;43m=\u001b[39;49m\u001b[43mensure_ascii\u001b[49m\u001b[43m,\u001b[49m\n\u001b[1;32m    236\u001b[0m \u001b[43m    \u001b[49m\u001b[43mcheck_circular\u001b[49m\u001b[38;5;241;43m=\u001b[39;49m\u001b[43mcheck_circular\u001b[49m\u001b[43m,\u001b[49m\u001b[43m \u001b[49m\u001b[43mallow_nan\u001b[49m\u001b[38;5;241;43m=\u001b[39;49m\u001b[43mallow_nan\u001b[49m\u001b[43m,\u001b[49m\u001b[43m \u001b[49m\u001b[43mindent\u001b[49m\u001b[38;5;241;43m=\u001b[39;49m\u001b[43mindent\u001b[49m\u001b[43m,\u001b[49m\n\u001b[1;32m    237\u001b[0m \u001b[43m    \u001b[49m\u001b[43mseparators\u001b[49m\u001b[38;5;241;43m=\u001b[39;49m\u001b[43mseparators\u001b[49m\u001b[43m,\u001b[49m\u001b[43m \u001b[49m\u001b[43mdefault\u001b[49m\u001b[38;5;241;43m=\u001b[39;49m\u001b[43mdefault\u001b[49m\u001b[43m,\u001b[49m\u001b[43m \u001b[49m\u001b[43msort_keys\u001b[49m\u001b[38;5;241;43m=\u001b[39;49m\u001b[43msort_keys\u001b[49m\u001b[43m,\u001b[49m\n\u001b[1;32m    238\u001b[0m \u001b[43m    \u001b[49m\u001b[38;5;241;43m*\u001b[39;49m\u001b[38;5;241;43m*\u001b[39;49m\u001b[43mkw\u001b[49m\u001b[43m)\u001b[49m\u001b[38;5;241;43m.\u001b[39;49m\u001b[43mencode\u001b[49m\u001b[43m(\u001b[49m\u001b[43mobj\u001b[49m\u001b[43m)\u001b[49m\n",
      "File \u001b[0;32m~/opt/anaconda3/lib/python3.9/json/encoder.py:199\u001b[0m, in \u001b[0;36mJSONEncoder.encode\u001b[0;34m(self, o)\u001b[0m\n\u001b[1;32m    196\u001b[0m \u001b[38;5;66;03m# This doesn't pass the iterator directly to ''.join() because the\u001b[39;00m\n\u001b[1;32m    197\u001b[0m \u001b[38;5;66;03m# exceptions aren't as detailed.  The list call should be roughly\u001b[39;00m\n\u001b[1;32m    198\u001b[0m \u001b[38;5;66;03m# equivalent to the PySequence_Fast that ''.join() would do.\u001b[39;00m\n\u001b[0;32m--> 199\u001b[0m chunks \u001b[38;5;241m=\u001b[39m \u001b[38;5;28;43mself\u001b[39;49m\u001b[38;5;241;43m.\u001b[39;49m\u001b[43miterencode\u001b[49m\u001b[43m(\u001b[49m\u001b[43mo\u001b[49m\u001b[43m,\u001b[49m\u001b[43m \u001b[49m\u001b[43m_one_shot\u001b[49m\u001b[38;5;241;43m=\u001b[39;49m\u001b[38;5;28;43;01mTrue\u001b[39;49;00m\u001b[43m)\u001b[49m\n\u001b[1;32m    200\u001b[0m \u001b[38;5;28;01mif\u001b[39;00m \u001b[38;5;129;01mnot\u001b[39;00m \u001b[38;5;28misinstance\u001b[39m(chunks, (\u001b[38;5;28mlist\u001b[39m, \u001b[38;5;28mtuple\u001b[39m)):\n",
      "File \u001b[0;32m~/opt/anaconda3/lib/python3.9/json/encoder.py:257\u001b[0m, in \u001b[0;36mJSONEncoder.iterencode\u001b[0;34m(self, o, _one_shot)\u001b[0m\n\u001b[1;32m    253\u001b[0m     _iterencode \u001b[38;5;241m=\u001b[39m _make_iterencode(\n\u001b[1;32m    254\u001b[0m         markers, \u001b[38;5;28mself\u001b[39m\u001b[38;5;241m.\u001b[39mdefault, _encoder, \u001b[38;5;28mself\u001b[39m\u001b[38;5;241m.\u001b[39mindent, floatstr,\n\u001b[1;32m    255\u001b[0m         \u001b[38;5;28mself\u001b[39m\u001b[38;5;241m.\u001b[39mkey_separator, \u001b[38;5;28mself\u001b[39m\u001b[38;5;241m.\u001b[39mitem_separator, \u001b[38;5;28mself\u001b[39m\u001b[38;5;241m.\u001b[39msort_keys,\n\u001b[1;32m    256\u001b[0m         \u001b[38;5;28mself\u001b[39m\u001b[38;5;241m.\u001b[39mskipkeys, _one_shot)\n\u001b[0;32m--> 257\u001b[0m \u001b[38;5;28;01mreturn\u001b[39;00m \u001b[43m_iterencode\u001b[49m\u001b[43m(\u001b[49m\u001b[43mo\u001b[49m\u001b[43m,\u001b[49m\u001b[43m \u001b[49m\u001b[38;5;241;43m0\u001b[39;49m\u001b[43m)\u001b[49m\n",
      "\u001b[0;31mValueError\u001b[0m: Out of range float values are not JSON compliant",
      "\nDuring handling of the above exception, another exception occurred:\n",
      "\u001b[0;31mInvalidJSONError\u001b[0m                          Traceback (most recent call last)",
      "Input \u001b[0;32mIn [26]\u001b[0m, in \u001b[0;36m<cell line: 4>\u001b[0;34m()\u001b[0m\n\u001b[1;32m      2\u001b[0m data \u001b[38;5;241m=\u001b[39m df\u001b[38;5;241m.\u001b[39mvalues\u001b[38;5;241m.\u001b[39mtolist()\n\u001b[1;32m      3\u001b[0m sheet\u001b[38;5;241m.\u001b[39minsert_row(header, \u001b[38;5;241m1\u001b[39m)\n\u001b[0;32m----> 4\u001b[0m \u001b[43msheet\u001b[49m\u001b[38;5;241;43m.\u001b[39;49m\u001b[43minsert_rows\u001b[49m\u001b[43m(\u001b[49m\u001b[43mdata\u001b[49m\u001b[43m,\u001b[49m\u001b[43m \u001b[49m\u001b[38;5;241;43m2\u001b[39;49m\u001b[43m)\u001b[49m\n",
      "File \u001b[0;32m~/opt/anaconda3/lib/python3.9/site-packages/gspread/worksheet.py:1735\u001b[0m, in \u001b[0;36mWorksheet.insert_rows\u001b[0;34m(self, values, row, value_input_option, inherit_from_before)\u001b[0m\n\u001b[1;32m   1731\u001b[0m params \u001b[38;5;241m=\u001b[39m {\u001b[38;5;124m\"\u001b[39m\u001b[38;5;124mvalueInputOption\u001b[39m\u001b[38;5;124m\"\u001b[39m: value_input_option}\n\u001b[1;32m   1733\u001b[0m body \u001b[38;5;241m=\u001b[39m {\u001b[38;5;124m\"\u001b[39m\u001b[38;5;124mmajorDimension\u001b[39m\u001b[38;5;124m\"\u001b[39m: Dimension\u001b[38;5;241m.\u001b[39mrows, \u001b[38;5;124m\"\u001b[39m\u001b[38;5;124mvalues\u001b[39m\u001b[38;5;124m\"\u001b[39m: values}\n\u001b[0;32m-> 1735\u001b[0m \u001b[38;5;28;01mreturn\u001b[39;00m \u001b[38;5;28;43mself\u001b[39;49m\u001b[38;5;241;43m.\u001b[39;49m\u001b[43mspreadsheet\u001b[49m\u001b[38;5;241;43m.\u001b[39;49m\u001b[43mvalues_append\u001b[49m\u001b[43m(\u001b[49m\u001b[43mrange_label\u001b[49m\u001b[43m,\u001b[49m\u001b[43m \u001b[49m\u001b[43mparams\u001b[49m\u001b[43m,\u001b[49m\u001b[43m \u001b[49m\u001b[43mbody\u001b[49m\u001b[43m)\u001b[49m\n",
      "File \u001b[0;32m~/opt/anaconda3/lib/python3.9/site-packages/gspread/spreadsheet.py:150\u001b[0m, in \u001b[0;36mSpreadsheet.values_append\u001b[0;34m(self, range, params, body)\u001b[0m\n\u001b[1;32m    138\u001b[0m \u001b[38;5;124;03m\"\"\"Lower-level method that directly calls `spreadsheets/<ID>/values:append <https://developers.google.com/sheets/api/reference/rest/v4/spreadsheets.values/append>`_.\u001b[39;00m\n\u001b[1;32m    139\u001b[0m \n\u001b[1;32m    140\u001b[0m \u001b[38;5;124;03m:param str range: The `A1 notation <https://developers.google.com/sheets/api/guides/concepts#a1_notation>`_\u001b[39;00m\n\u001b[0;32m   (...)\u001b[0m\n\u001b[1;32m    147\u001b[0m \u001b[38;5;124;03m.. versionadded:: 3.0\u001b[39;00m\n\u001b[1;32m    148\u001b[0m \u001b[38;5;124;03m\"\"\"\u001b[39;00m\n\u001b[1;32m    149\u001b[0m url \u001b[38;5;241m=\u001b[39m SPREADSHEET_VALUES_APPEND_URL \u001b[38;5;241m%\u001b[39m (\u001b[38;5;28mself\u001b[39m\u001b[38;5;241m.\u001b[39mid, quote(\u001b[38;5;28mrange\u001b[39m))\n\u001b[0;32m--> 150\u001b[0m r \u001b[38;5;241m=\u001b[39m \u001b[38;5;28;43mself\u001b[39;49m\u001b[38;5;241;43m.\u001b[39;49m\u001b[43mclient\u001b[49m\u001b[38;5;241;43m.\u001b[39;49m\u001b[43mrequest\u001b[49m\u001b[43m(\u001b[49m\u001b[38;5;124;43m\"\u001b[39;49m\u001b[38;5;124;43mpost\u001b[39;49m\u001b[38;5;124;43m\"\u001b[39;49m\u001b[43m,\u001b[49m\u001b[43m \u001b[49m\u001b[43murl\u001b[49m\u001b[43m,\u001b[49m\u001b[43m \u001b[49m\u001b[43mparams\u001b[49m\u001b[38;5;241;43m=\u001b[39;49m\u001b[43mparams\u001b[49m\u001b[43m,\u001b[49m\u001b[43m \u001b[49m\u001b[43mjson\u001b[49m\u001b[38;5;241;43m=\u001b[39;49m\u001b[43mbody\u001b[49m\u001b[43m)\u001b[49m\n\u001b[1;32m    151\u001b[0m \u001b[38;5;28;01mreturn\u001b[39;00m r\u001b[38;5;241m.\u001b[39mjson()\n",
      "File \u001b[0;32m~/opt/anaconda3/lib/python3.9/site-packages/gspread/client.py:79\u001b[0m, in \u001b[0;36mClient.request\u001b[0;34m(self, method, endpoint, params, data, json, files, headers)\u001b[0m\n\u001b[1;32m     69\u001b[0m \u001b[38;5;28;01mdef\u001b[39;00m \u001b[38;5;21mrequest\u001b[39m(\n\u001b[1;32m     70\u001b[0m     \u001b[38;5;28mself\u001b[39m,\n\u001b[1;32m     71\u001b[0m     method,\n\u001b[0;32m   (...)\u001b[0m\n\u001b[1;32m     77\u001b[0m     headers\u001b[38;5;241m=\u001b[39m\u001b[38;5;28;01mNone\u001b[39;00m,\n\u001b[1;32m     78\u001b[0m ):\n\u001b[0;32m---> 79\u001b[0m     response \u001b[38;5;241m=\u001b[39m \u001b[38;5;28;43mgetattr\u001b[39;49m\u001b[43m(\u001b[49m\u001b[38;5;28;43mself\u001b[39;49m\u001b[38;5;241;43m.\u001b[39;49m\u001b[43msession\u001b[49m\u001b[43m,\u001b[49m\u001b[43m \u001b[49m\u001b[43mmethod\u001b[49m\u001b[43m)\u001b[49m\u001b[43m(\u001b[49m\n\u001b[1;32m     80\u001b[0m \u001b[43m        \u001b[49m\u001b[43mendpoint\u001b[49m\u001b[43m,\u001b[49m\n\u001b[1;32m     81\u001b[0m \u001b[43m        \u001b[49m\u001b[43mjson\u001b[49m\u001b[38;5;241;43m=\u001b[39;49m\u001b[43mjson\u001b[49m\u001b[43m,\u001b[49m\n\u001b[1;32m     82\u001b[0m \u001b[43m        \u001b[49m\u001b[43mparams\u001b[49m\u001b[38;5;241;43m=\u001b[39;49m\u001b[43mparams\u001b[49m\u001b[43m,\u001b[49m\n\u001b[1;32m     83\u001b[0m \u001b[43m        \u001b[49m\u001b[43mdata\u001b[49m\u001b[38;5;241;43m=\u001b[39;49m\u001b[43mdata\u001b[49m\u001b[43m,\u001b[49m\n\u001b[1;32m     84\u001b[0m \u001b[43m        \u001b[49m\u001b[43mfiles\u001b[49m\u001b[38;5;241;43m=\u001b[39;49m\u001b[43mfiles\u001b[49m\u001b[43m,\u001b[49m\n\u001b[1;32m     85\u001b[0m \u001b[43m        \u001b[49m\u001b[43mheaders\u001b[49m\u001b[38;5;241;43m=\u001b[39;49m\u001b[43mheaders\u001b[49m\u001b[43m,\u001b[49m\n\u001b[1;32m     86\u001b[0m \u001b[43m        \u001b[49m\u001b[43mtimeout\u001b[49m\u001b[38;5;241;43m=\u001b[39;49m\u001b[38;5;28;43mself\u001b[39;49m\u001b[38;5;241;43m.\u001b[39;49m\u001b[43mtimeout\u001b[49m\u001b[43m,\u001b[49m\n\u001b[1;32m     87\u001b[0m \u001b[43m    \u001b[49m\u001b[43m)\u001b[49m\n\u001b[1;32m     89\u001b[0m     \u001b[38;5;28;01mif\u001b[39;00m response\u001b[38;5;241m.\u001b[39mok:\n\u001b[1;32m     90\u001b[0m         \u001b[38;5;28;01mreturn\u001b[39;00m response\n",
      "File \u001b[0;32m~/opt/anaconda3/lib/python3.9/site-packages/requests/sessions.py:577\u001b[0m, in \u001b[0;36mSession.post\u001b[0;34m(self, url, data, json, **kwargs)\u001b[0m\n\u001b[1;32m    566\u001b[0m \u001b[38;5;28;01mdef\u001b[39;00m \u001b[38;5;21mpost\u001b[39m(\u001b[38;5;28mself\u001b[39m, url, data\u001b[38;5;241m=\u001b[39m\u001b[38;5;28;01mNone\u001b[39;00m, json\u001b[38;5;241m=\u001b[39m\u001b[38;5;28;01mNone\u001b[39;00m, \u001b[38;5;241m*\u001b[39m\u001b[38;5;241m*\u001b[39mkwargs):\n\u001b[1;32m    567\u001b[0m     \u001b[38;5;124mr\u001b[39m\u001b[38;5;124;03m\"\"\"Sends a POST request. Returns :class:`Response` object.\u001b[39;00m\n\u001b[1;32m    568\u001b[0m \n\u001b[1;32m    569\u001b[0m \u001b[38;5;124;03m    :param url: URL for the new :class:`Request` object.\u001b[39;00m\n\u001b[0;32m   (...)\u001b[0m\n\u001b[1;32m    574\u001b[0m \u001b[38;5;124;03m    :rtype: requests.Response\u001b[39;00m\n\u001b[1;32m    575\u001b[0m \u001b[38;5;124;03m    \"\"\"\u001b[39;00m\n\u001b[0;32m--> 577\u001b[0m     \u001b[38;5;28;01mreturn\u001b[39;00m \u001b[38;5;28;43mself\u001b[39;49m\u001b[38;5;241;43m.\u001b[39;49m\u001b[43mrequest\u001b[49m\u001b[43m(\u001b[49m\u001b[38;5;124;43m'\u001b[39;49m\u001b[38;5;124;43mPOST\u001b[39;49m\u001b[38;5;124;43m'\u001b[39;49m\u001b[43m,\u001b[49m\u001b[43m \u001b[49m\u001b[43murl\u001b[49m\u001b[43m,\u001b[49m\u001b[43m \u001b[49m\u001b[43mdata\u001b[49m\u001b[38;5;241;43m=\u001b[39;49m\u001b[43mdata\u001b[49m\u001b[43m,\u001b[49m\u001b[43m \u001b[49m\u001b[43mjson\u001b[49m\u001b[38;5;241;43m=\u001b[39;49m\u001b[43mjson\u001b[49m\u001b[43m,\u001b[49m\u001b[43m \u001b[49m\u001b[38;5;241;43m*\u001b[39;49m\u001b[38;5;241;43m*\u001b[39;49m\u001b[43mkwargs\u001b[49m\u001b[43m)\u001b[49m\n",
      "File \u001b[0;32m~/opt/anaconda3/lib/python3.9/site-packages/google/auth/transport/requests.py:549\u001b[0m, in \u001b[0;36mAuthorizedSession.request\u001b[0;34m(self, method, url, data, headers, max_allowed_time, timeout, **kwargs)\u001b[0m\n\u001b[1;32m    546\u001b[0m remaining_time \u001b[38;5;241m=\u001b[39m guard\u001b[38;5;241m.\u001b[39mremaining_timeout\n\u001b[1;32m    548\u001b[0m \u001b[38;5;28;01mwith\u001b[39;00m TimeoutGuard(remaining_time) \u001b[38;5;28;01mas\u001b[39;00m guard:\n\u001b[0;32m--> 549\u001b[0m     response \u001b[38;5;241m=\u001b[39m \u001b[38;5;28;43msuper\u001b[39;49m\u001b[43m(\u001b[49m\u001b[43mAuthorizedSession\u001b[49m\u001b[43m,\u001b[49m\u001b[43m \u001b[49m\u001b[38;5;28;43mself\u001b[39;49m\u001b[43m)\u001b[49m\u001b[38;5;241;43m.\u001b[39;49m\u001b[43mrequest\u001b[49m\u001b[43m(\u001b[49m\n\u001b[1;32m    550\u001b[0m \u001b[43m        \u001b[49m\u001b[43mmethod\u001b[49m\u001b[43m,\u001b[49m\n\u001b[1;32m    551\u001b[0m \u001b[43m        \u001b[49m\u001b[43murl\u001b[49m\u001b[43m,\u001b[49m\n\u001b[1;32m    552\u001b[0m \u001b[43m        \u001b[49m\u001b[43mdata\u001b[49m\u001b[38;5;241;43m=\u001b[39;49m\u001b[43mdata\u001b[49m\u001b[43m,\u001b[49m\n\u001b[1;32m    553\u001b[0m \u001b[43m        \u001b[49m\u001b[43mheaders\u001b[49m\u001b[38;5;241;43m=\u001b[39;49m\u001b[43mrequest_headers\u001b[49m\u001b[43m,\u001b[49m\n\u001b[1;32m    554\u001b[0m \u001b[43m        \u001b[49m\u001b[43mtimeout\u001b[49m\u001b[38;5;241;43m=\u001b[39;49m\u001b[43mtimeout\u001b[49m\u001b[43m,\u001b[49m\n\u001b[1;32m    555\u001b[0m \u001b[43m        \u001b[49m\u001b[38;5;241;43m*\u001b[39;49m\u001b[38;5;241;43m*\u001b[39;49m\u001b[43mkwargs\u001b[49m\n\u001b[1;32m    556\u001b[0m \u001b[43m    \u001b[49m\u001b[43m)\u001b[49m\n\u001b[1;32m    557\u001b[0m remaining_time \u001b[38;5;241m=\u001b[39m guard\u001b[38;5;241m.\u001b[39mremaining_timeout\n\u001b[1;32m    559\u001b[0m \u001b[38;5;66;03m# If the response indicated that the credentials needed to be\u001b[39;00m\n\u001b[1;32m    560\u001b[0m \u001b[38;5;66;03m# refreshed, then refresh the credentials and re-attempt the\u001b[39;00m\n\u001b[1;32m    561\u001b[0m \u001b[38;5;66;03m# request.\u001b[39;00m\n\u001b[1;32m    562\u001b[0m \u001b[38;5;66;03m# A stored token may expire between the time it is retrieved and\u001b[39;00m\n\u001b[1;32m    563\u001b[0m \u001b[38;5;66;03m# the time the request is made, so we may need to try twice.\u001b[39;00m\n",
      "File \u001b[0;32m~/opt/anaconda3/lib/python3.9/site-packages/requests/sessions.py:515\u001b[0m, in \u001b[0;36mSession.request\u001b[0;34m(self, method, url, params, data, headers, cookies, files, auth, timeout, allow_redirects, proxies, hooks, stream, verify, cert, json)\u001b[0m\n\u001b[1;32m    502\u001b[0m \u001b[38;5;66;03m# Create the Request.\u001b[39;00m\n\u001b[1;32m    503\u001b[0m req \u001b[38;5;241m=\u001b[39m Request(\n\u001b[1;32m    504\u001b[0m     method\u001b[38;5;241m=\u001b[39mmethod\u001b[38;5;241m.\u001b[39mupper(),\n\u001b[1;32m    505\u001b[0m     url\u001b[38;5;241m=\u001b[39murl,\n\u001b[0;32m   (...)\u001b[0m\n\u001b[1;32m    513\u001b[0m     hooks\u001b[38;5;241m=\u001b[39mhooks,\n\u001b[1;32m    514\u001b[0m )\n\u001b[0;32m--> 515\u001b[0m prep \u001b[38;5;241m=\u001b[39m \u001b[38;5;28;43mself\u001b[39;49m\u001b[38;5;241;43m.\u001b[39;49m\u001b[43mprepare_request\u001b[49m\u001b[43m(\u001b[49m\u001b[43mreq\u001b[49m\u001b[43m)\u001b[49m\n\u001b[1;32m    517\u001b[0m proxies \u001b[38;5;241m=\u001b[39m proxies \u001b[38;5;129;01mor\u001b[39;00m {}\n\u001b[1;32m    519\u001b[0m settings \u001b[38;5;241m=\u001b[39m \u001b[38;5;28mself\u001b[39m\u001b[38;5;241m.\u001b[39mmerge_environment_settings(\n\u001b[1;32m    520\u001b[0m     prep\u001b[38;5;241m.\u001b[39murl, proxies, stream, verify, cert\n\u001b[1;32m    521\u001b[0m )\n",
      "File \u001b[0;32m~/opt/anaconda3/lib/python3.9/site-packages/requests/sessions.py:443\u001b[0m, in \u001b[0;36mSession.prepare_request\u001b[0;34m(self, request)\u001b[0m\n\u001b[1;32m    440\u001b[0m     auth \u001b[38;5;241m=\u001b[39m get_netrc_auth(request\u001b[38;5;241m.\u001b[39murl)\n\u001b[1;32m    442\u001b[0m p \u001b[38;5;241m=\u001b[39m PreparedRequest()\n\u001b[0;32m--> 443\u001b[0m \u001b[43mp\u001b[49m\u001b[38;5;241;43m.\u001b[39;49m\u001b[43mprepare\u001b[49m\u001b[43m(\u001b[49m\n\u001b[1;32m    444\u001b[0m \u001b[43m    \u001b[49m\u001b[43mmethod\u001b[49m\u001b[38;5;241;43m=\u001b[39;49m\u001b[43mrequest\u001b[49m\u001b[38;5;241;43m.\u001b[39;49m\u001b[43mmethod\u001b[49m\u001b[38;5;241;43m.\u001b[39;49m\u001b[43mupper\u001b[49m\u001b[43m(\u001b[49m\u001b[43m)\u001b[49m\u001b[43m,\u001b[49m\n\u001b[1;32m    445\u001b[0m \u001b[43m    \u001b[49m\u001b[43murl\u001b[49m\u001b[38;5;241;43m=\u001b[39;49m\u001b[43mrequest\u001b[49m\u001b[38;5;241;43m.\u001b[39;49m\u001b[43murl\u001b[49m\u001b[43m,\u001b[49m\n\u001b[1;32m    446\u001b[0m \u001b[43m    \u001b[49m\u001b[43mfiles\u001b[49m\u001b[38;5;241;43m=\u001b[39;49m\u001b[43mrequest\u001b[49m\u001b[38;5;241;43m.\u001b[39;49m\u001b[43mfiles\u001b[49m\u001b[43m,\u001b[49m\n\u001b[1;32m    447\u001b[0m \u001b[43m    \u001b[49m\u001b[43mdata\u001b[49m\u001b[38;5;241;43m=\u001b[39;49m\u001b[43mrequest\u001b[49m\u001b[38;5;241;43m.\u001b[39;49m\u001b[43mdata\u001b[49m\u001b[43m,\u001b[49m\n\u001b[1;32m    448\u001b[0m \u001b[43m    \u001b[49m\u001b[43mjson\u001b[49m\u001b[38;5;241;43m=\u001b[39;49m\u001b[43mrequest\u001b[49m\u001b[38;5;241;43m.\u001b[39;49m\u001b[43mjson\u001b[49m\u001b[43m,\u001b[49m\n\u001b[1;32m    449\u001b[0m \u001b[43m    \u001b[49m\u001b[43mheaders\u001b[49m\u001b[38;5;241;43m=\u001b[39;49m\u001b[43mmerge_setting\u001b[49m\u001b[43m(\u001b[49m\u001b[43mrequest\u001b[49m\u001b[38;5;241;43m.\u001b[39;49m\u001b[43mheaders\u001b[49m\u001b[43m,\u001b[49m\u001b[43m \u001b[49m\u001b[38;5;28;43mself\u001b[39;49m\u001b[38;5;241;43m.\u001b[39;49m\u001b[43mheaders\u001b[49m\u001b[43m,\u001b[49m\u001b[43m \u001b[49m\u001b[43mdict_class\u001b[49m\u001b[38;5;241;43m=\u001b[39;49m\u001b[43mCaseInsensitiveDict\u001b[49m\u001b[43m)\u001b[49m\u001b[43m,\u001b[49m\n\u001b[1;32m    450\u001b[0m \u001b[43m    \u001b[49m\u001b[43mparams\u001b[49m\u001b[38;5;241;43m=\u001b[39;49m\u001b[43mmerge_setting\u001b[49m\u001b[43m(\u001b[49m\u001b[43mrequest\u001b[49m\u001b[38;5;241;43m.\u001b[39;49m\u001b[43mparams\u001b[49m\u001b[43m,\u001b[49m\u001b[43m \u001b[49m\u001b[38;5;28;43mself\u001b[39;49m\u001b[38;5;241;43m.\u001b[39;49m\u001b[43mparams\u001b[49m\u001b[43m)\u001b[49m\u001b[43m,\u001b[49m\n\u001b[1;32m    451\u001b[0m \u001b[43m    \u001b[49m\u001b[43mauth\u001b[49m\u001b[38;5;241;43m=\u001b[39;49m\u001b[43mmerge_setting\u001b[49m\u001b[43m(\u001b[49m\u001b[43mauth\u001b[49m\u001b[43m,\u001b[49m\u001b[43m \u001b[49m\u001b[38;5;28;43mself\u001b[39;49m\u001b[38;5;241;43m.\u001b[39;49m\u001b[43mauth\u001b[49m\u001b[43m)\u001b[49m\u001b[43m,\u001b[49m\n\u001b[1;32m    452\u001b[0m \u001b[43m    \u001b[49m\u001b[43mcookies\u001b[49m\u001b[38;5;241;43m=\u001b[39;49m\u001b[43mmerged_cookies\u001b[49m\u001b[43m,\u001b[49m\n\u001b[1;32m    453\u001b[0m \u001b[43m    \u001b[49m\u001b[43mhooks\u001b[49m\u001b[38;5;241;43m=\u001b[39;49m\u001b[43mmerge_hooks\u001b[49m\u001b[43m(\u001b[49m\u001b[43mrequest\u001b[49m\u001b[38;5;241;43m.\u001b[39;49m\u001b[43mhooks\u001b[49m\u001b[43m,\u001b[49m\u001b[43m \u001b[49m\u001b[38;5;28;43mself\u001b[39;49m\u001b[38;5;241;43m.\u001b[39;49m\u001b[43mhooks\u001b[49m\u001b[43m)\u001b[49m\u001b[43m,\u001b[49m\n\u001b[1;32m    454\u001b[0m \u001b[43m\u001b[49m\u001b[43m)\u001b[49m\n\u001b[1;32m    455\u001b[0m \u001b[38;5;28;01mreturn\u001b[39;00m p\n",
      "File \u001b[0;32m~/opt/anaconda3/lib/python3.9/site-packages/requests/models.py:321\u001b[0m, in \u001b[0;36mPreparedRequest.prepare\u001b[0;34m(self, method, url, headers, files, data, params, auth, cookies, hooks, json)\u001b[0m\n\u001b[1;32m    319\u001b[0m \u001b[38;5;28mself\u001b[39m\u001b[38;5;241m.\u001b[39mprepare_headers(headers)\n\u001b[1;32m    320\u001b[0m \u001b[38;5;28mself\u001b[39m\u001b[38;5;241m.\u001b[39mprepare_cookies(cookies)\n\u001b[0;32m--> 321\u001b[0m \u001b[38;5;28;43mself\u001b[39;49m\u001b[38;5;241;43m.\u001b[39;49m\u001b[43mprepare_body\u001b[49m\u001b[43m(\u001b[49m\u001b[43mdata\u001b[49m\u001b[43m,\u001b[49m\u001b[43m \u001b[49m\u001b[43mfiles\u001b[49m\u001b[43m,\u001b[49m\u001b[43m \u001b[49m\u001b[43mjson\u001b[49m\u001b[43m)\u001b[49m\n\u001b[1;32m    322\u001b[0m \u001b[38;5;28mself\u001b[39m\u001b[38;5;241m.\u001b[39mprepare_auth(auth, url)\n\u001b[1;32m    324\u001b[0m \u001b[38;5;66;03m# Note that prepare_auth must be last to enable authentication schemes\u001b[39;00m\n\u001b[1;32m    325\u001b[0m \u001b[38;5;66;03m# such as OAuth to work on a fully prepared request.\u001b[39;00m\n\u001b[1;32m    326\u001b[0m \n\u001b[1;32m    327\u001b[0m \u001b[38;5;66;03m# This MUST go after prepare_auth. Authenticators could add a hook\u001b[39;00m\n",
      "File \u001b[0;32m~/opt/anaconda3/lib/python3.9/site-packages/requests/models.py:475\u001b[0m, in \u001b[0;36mPreparedRequest.prepare_body\u001b[0;34m(self, data, files, json)\u001b[0m\n\u001b[1;32m    473\u001b[0m     body \u001b[38;5;241m=\u001b[39m complexjson\u001b[38;5;241m.\u001b[39mdumps(json, allow_nan\u001b[38;5;241m=\u001b[39m\u001b[38;5;28;01mFalse\u001b[39;00m)\n\u001b[1;32m    474\u001b[0m \u001b[38;5;28;01mexcept\u001b[39;00m \u001b[38;5;167;01mValueError\u001b[39;00m \u001b[38;5;28;01mas\u001b[39;00m ve:\n\u001b[0;32m--> 475\u001b[0m     \u001b[38;5;28;01mraise\u001b[39;00m InvalidJSONError(ve, request\u001b[38;5;241m=\u001b[39m\u001b[38;5;28mself\u001b[39m)\n\u001b[1;32m    477\u001b[0m \u001b[38;5;28;01mif\u001b[39;00m \u001b[38;5;129;01mnot\u001b[39;00m \u001b[38;5;28misinstance\u001b[39m(body, \u001b[38;5;28mbytes\u001b[39m):\n\u001b[1;32m    478\u001b[0m     body \u001b[38;5;241m=\u001b[39m body\u001b[38;5;241m.\u001b[39mencode(\u001b[38;5;124m'\u001b[39m\u001b[38;5;124mutf-8\u001b[39m\u001b[38;5;124m'\u001b[39m)\n",
      "\u001b[0;31mInvalidJSONError\u001b[0m: Out of range float values are not JSON compliant"
     ]
    }
   ],
   "source": [
    "header = df.columns.tolist()\n",
    "data = df.values.tolist()\n",
    "sheet.insert_row(header, 1)\n",
    "sheet.insert_rows(data, 2)"
   ]
  }
 ],
 "metadata": {
  "kernelspec": {
   "display_name": "Python 3 (ipykernel)",
   "language": "python",
   "name": "python3"
  },
  "language_info": {
   "codemirror_mode": {
    "name": "ipython",
    "version": 3
   },
   "file_extension": ".py",
   "mimetype": "text/x-python",
   "name": "python",
   "nbconvert_exporter": "python",
   "pygments_lexer": "ipython3",
   "version": "3.9.12"
  }
 },
 "nbformat": 4,
 "nbformat_minor": 5
}
