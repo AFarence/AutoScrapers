{
 "cells": [
  {
   "cell_type": "code",
   "execution_count": 45,
   "id": "9010b830",
   "metadata": {},
   "outputs": [],
   "source": [
    "from oauth2client.service_account import ServiceAccountCredentials\n",
    "import gspread\n",
    "import json\n",
    "import pandas as pd\n",
    "\n",
    "scopes = [\n",
    "'https://www.googleapis.com/auth/spreadsheets',\n",
    "'https://www.googleapis.com/auth/drive'\n",
    "]\n",
    "\n",
    "credentials = ServiceAccountCredentials.from_json_keyfile_name(\"autoscraper-380600-d911f955a585.json\", scopes) #access the json key you downloaded earlier \n",
    "file = gspread.authorize(credentials) # authenticate the JSON key with gspread\n",
    "sheet = file.open(\"CookCountyScraper\") #open sheet\n",
    "sheet = sheet.sheet1 #replace sheet_name with the name that corresponds to yours, e.g, it can be sheet1"
   ]
  },
  {
   "cell_type": "code",
   "execution_count": 46,
   "id": "d7ed81a9",
   "metadata": {},
   "outputs": [],
   "source": [
    "df = pd.read_csv('ALL_DEEDS_01012022_to_03132023_run_Mar-13-2023.csv')"
   ]
  },
  {
   "cell_type": "code",
   "execution_count": 47,
   "id": "f064dd73",
   "metadata": {},
   "outputs": [
    {
     "name": "stderr",
     "output_type": "stream",
     "text": [
      "/var/folders/rq/0_j_rksd7psgdycg9c1qwf6m0000gp/T/ipykernel_50603/593088941.py:1: FutureWarning: The pandas.np module is deprecated and will be removed from pandas in a future version. Import numpy directly instead.\n",
      "  df = df.replace([pd.np.inf, -pd.np.inf, pd.np.nan], 'NA')\n"
     ]
    }
   ],
   "source": [
    "df = df.replace([pd.np.inf, -pd.np.inf, pd.np.nan], 'NA')"
   ]
  },
  {
   "cell_type": "code",
   "execution_count": 48,
   "id": "f1f025ac",
   "metadata": {},
   "outputs": [],
   "source": [
    "df = df.drop(columns=['Unnamed: 0','index'])"
   ]
  },
  {
   "cell_type": "code",
   "execution_count": 49,
   "id": "348b836f",
   "metadata": {},
   "outputs": [
    {
     "data": {
      "text/plain": [
       "{'spreadsheetId': '1J-kWQ3SabAKz44NNYA3H7OE4NfMxdmk4AND2z_mh-AQ',\n",
       " 'clearedRange': 'Sheet1!A1:Z1000'}"
      ]
     },
     "execution_count": 49,
     "metadata": {},
     "output_type": "execute_result"
    }
   ],
   "source": [
    "# Clear existing data (optional)\n",
    "sheet.clear()"
   ]
  },
  {
   "cell_type": "code",
   "execution_count": 50,
   "id": "60139b67",
   "metadata": {},
   "outputs": [
    {
     "data": {
      "text/plain": [
       "{'spreadsheetId': '1J-kWQ3SabAKz44NNYA3H7OE4NfMxdmk4AND2z_mh-AQ',\n",
       " 'updates': {'spreadsheetId': '1J-kWQ3SabAKz44NNYA3H7OE4NfMxdmk4AND2z_mh-AQ',\n",
       "  'updatedRange': 'Sheet1!A2:M249',\n",
       "  'updatedRows': 248,\n",
       "  'updatedColumns': 13,\n",
       "  'updatedCells': 3224}}"
      ]
     },
     "execution_count": 50,
     "metadata": {},
     "output_type": "execute_result"
    }
   ],
   "source": [
    "header = df.columns.tolist()\n",
    "data = df.values.tolist()\n",
    "sheet.insert_row(header, 1)\n",
    "sheet.insert_rows(data, 2)"
   ]
  }
 ],
 "metadata": {
  "kernelspec": {
   "display_name": "Python 3 (ipykernel)",
   "language": "python",
   "name": "python3"
  },
  "language_info": {
   "codemirror_mode": {
    "name": "ipython",
    "version": 3
   },
   "file_extension": ".py",
   "mimetype": "text/x-python",
   "name": "python",
   "nbconvert_exporter": "python",
   "pygments_lexer": "ipython3",
   "version": "3.9.12"
  }
 },
 "nbformat": 4,
 "nbformat_minor": 5
}
