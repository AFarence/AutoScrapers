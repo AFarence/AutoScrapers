{
 "cells": [
  {
   "cell_type": "code",
   "execution_count": 1,
   "id": "6a24a8c9",
   "metadata": {},
   "outputs": [],
   "source": [
    "import pandas as pd\n",
    "import requests\n",
    "from bs4 import BeautifulSoup\n",
    "\n",
    "### For Google Sheets ###\n",
    "import os\n",
    "from oauth2client.service_account import ServiceAccountCredentials\n",
    "import gspread\n",
    "import json"
   ]
  },
  {
   "cell_type": "code",
   "execution_count": 2,
   "id": "fc8633d2",
   "metadata": {},
   "outputs": [],
   "source": [
    "headers = {\n",
    "    \"User-Agent\": \"Mozilla/5.0 (Windows NT 10.0; Win64; x64) AppleWebKit/537.36 (KHTML, like Gecko) Chrome/58.0.3029.110 Safari/537.36\"\n",
    "}"
   ]
  },
  {
   "cell_type": "code",
   "execution_count": 3,
   "id": "9ce4302c",
   "metadata": {},
   "outputs": [],
   "source": [
    "url = 'https://www.redfin.com/county/479/FL/Miami-Dade-County/filter/include=sold-1wk'"
   ]
  },
  {
   "cell_type": "code",
   "execution_count": 4,
   "id": "b1befabb",
   "metadata": {},
   "outputs": [],
   "source": [
    "try:\n",
    "    response = requests.get(url,headers=headers)\n",
    "    soup = BeautifulSoup(response.content, 'html.parser')\n",
    "    try:\n",
    "        price_soup = soup.find_all('span',{'class':'homecardV2Price'})\n",
    "    except:\n",
    "        price_soup = None\n",
    "    try:\n",
    "        address_soup = soup.find_all('span',{'class':'collapsedAddress primaryLine'})\n",
    "    except:\n",
    "        address_soup = None\n",
    "    try:\n",
    "        card_soup = soup.find('div',{'class':'HomeCardsContainer flex flex-wrap'})\n",
    "        url_soup = card_soup.find_all('a')\n",
    "    except:\n",
    "        url_soup = None\n",
    "except Exception as e:\n",
    "    print(f'{e} -- response fail!')"
   ]
  },
  {
   "cell_type": "code",
   "execution_count": 5,
   "id": "96031e66",
   "metadata": {},
   "outputs": [],
   "source": [
    "url_list = []\n",
    "for x in url_soup:\n",
    "    url_list.append(x['href'])    \n",
    "url_list_no_dups = list(set(url_list))"
   ]
  },
  {
   "cell_type": "code",
   "execution_count": 6,
   "id": "c865fe43",
   "metadata": {},
   "outputs": [],
   "source": [
    "data = {'Address':address_soup,'Price':price_soup,'URL':url_list_no_dups}"
   ]
  },
  {
   "cell_type": "code",
   "execution_count": 7,
   "id": "0d27f530",
   "metadata": {},
   "outputs": [],
   "source": [
    "df = pd.DataFrame(data)"
   ]
  },
  {
   "cell_type": "code",
   "execution_count": 8,
   "id": "973bb113",
   "metadata": {},
   "outputs": [],
   "source": [
    "df['URL'] = 'redfin.com' + df['URL'].astype(str)"
   ]
  },
  {
   "cell_type": "code",
   "execution_count": 9,
   "id": "063b01ba",
   "metadata": {},
   "outputs": [],
   "source": [
    "for i, r in df.iterrows():\n",
    "    r['Price'] = r['Price'].text\n",
    "    r['Address'] = r['Address'].text"
   ]
  },
  {
   "cell_type": "code",
   "execution_count": 10,
   "id": "164cd057",
   "metadata": {},
   "outputs": [],
   "source": [
    "df['Price'] = df['Price'].str.replace('$','',regex=True)\n",
    "df['Price'] = df['Price'].str.replace(',','',regex=True)\n",
    "df['Price'] = pd.to_numeric(df['Price'])"
   ]
  },
  {
   "cell_type": "code",
   "execution_count": 11,
   "id": "5bb81867",
   "metadata": {},
   "outputs": [],
   "source": [
    "df = df.sort_values(by='Price', ascending=False)"
   ]
  },
  {
   "cell_type": "code",
   "execution_count": 12,
   "id": "616c73ad",
   "metadata": {},
   "outputs": [],
   "source": [
    "df.reset_index(inplace=True, drop=True)"
   ]
  },
  {
   "cell_type": "code",
   "execution_count": 13,
   "id": "3e6c24fc",
   "metadata": {},
   "outputs": [],
   "source": [
    "scopes = [\n",
    "'https://www.googleapis.com/auth/spreadsheets',\n",
    "'https://www.googleapis.com/auth/drive'\n",
    "]\n",
    "\n",
    "credentials = ServiceAccountCredentials.from_json_keyfile_dict(\n",
    "    json.loads(os.environ.get('SERVICE_ACCOUNT_JSON')), scopes)\n",
    "file = gspread.authorize(credentials)\n",
    "sheet = file.open(\"MiamiDade_RedfinLiveFeed\")\n",
    "sheet = sheet.sheet1"
   ]
  },
  {
   "cell_type": "code",
   "execution_count": 14,
   "id": "adc0b2e5",
   "metadata": {},
   "outputs": [
    {
     "data": {
      "text/plain": [
       "{'spreadsheetId': '1p3COfo-STuX4kx-iORYsDZ18a2l1sAQa_yHTS6cw9ck',\n",
       " 'clearedRange': 'Sheet1!A1:Z1000'}"
      ]
     },
     "execution_count": 14,
     "metadata": {},
     "output_type": "execute_result"
    }
   ],
   "source": [
    "# Clear existing data (optional)\n",
    "sheet.clear()"
   ]
  },
  {
   "cell_type": "code",
   "execution_count": 15,
   "id": "206493ee",
   "metadata": {},
   "outputs": [
    {
     "data": {
      "text/plain": [
       "{'spreadsheetId': '1p3COfo-STuX4kx-iORYsDZ18a2l1sAQa_yHTS6cw9ck',\n",
       " 'updates': {'spreadsheetId': '1p3COfo-STuX4kx-iORYsDZ18a2l1sAQa_yHTS6cw9ck',\n",
       "  'updatedRange': 'Sheet1!A2:C41',\n",
       "  'updatedRows': 40,\n",
       "  'updatedColumns': 3,\n",
       "  'updatedCells': 120}}"
      ]
     },
     "execution_count": 15,
     "metadata": {},
     "output_type": "execute_result"
    }
   ],
   "source": [
    "header = df.columns.tolist()\n",
    "data = df.values.tolist()\n",
    "sheet.insert_row(header, 1)\n",
    "sheet.insert_rows(data, 2)"
   ]
  }
 ],
 "metadata": {
  "kernelspec": {
   "display_name": "Python 3 (ipykernel)",
   "language": "python",
   "name": "python3"
  },
  "language_info": {
   "codemirror_mode": {
    "name": "ipython",
    "version": 3
   },
   "file_extension": ".py",
   "mimetype": "text/x-python",
   "name": "python",
   "nbconvert_exporter": "python",
   "pygments_lexer": "ipython3",
   "version": "3.9.12"
  }
 },
 "nbformat": 4,
 "nbformat_minor": 5
}
